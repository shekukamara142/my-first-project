{
 "cells": [
  {
   "cell_type": "code",
   "execution_count": null,
   "metadata": {},
   "outputs": [],
   "source": [
    "import numpy as np\n",
    "np.set_printoptions(suppress=True) \n",
    "fuji = np.loadtxt(\"mtfuji_data.csv\",delimiter=\",\", skiprows=1)\n",
    "print(fuji[130:140])"
   ]
  },
  {
   "cell_type": "markdown",
   "metadata": {},
   "source": [
    "##[solution 1] Visualization of data"
   ]
  },
  {
   "cell_type": "code",
   "execution_count": null,
   "metadata": {},
   "outputs": [],
   "source": [
    "import matplotlib.pyplot as plt\n",
    "%matplotlib inline\n",
    "\n",
    "plt.xlabel(\"x\")\n",
    "plt.ylabel(\"elevation[m]\")\n",
    "plt.title(\"Mt. Fuji\")\n",
    "plt.plot(fuji[:,0], fuji[:,3],)\n",
    "plt.plot(fuji[136,0],fuji[136,3],c=\"blue\",marker='r')\n",
    "plt.annotate(\"Current Place\", xy=(136,fuji[136,3]) , xytext=(80,3000) , arrowprops=dict(facecolor='orange'))\n",
    "plt.show()"
   ]
  },
  {
   "cell_type": "markdown",
   "metadata": {},
   "source": [
    "##[solution 2] Create a function to calculate the slope of a point"
   ]
  },
  {
   "cell_type": "code",
   "execution_count": null,
   "metadata": {},
   "outputs": [],
   "source": [
    "def gradient(x):\n",
    "    return (fuji[x,3] - fuji[x-1,3]) / (x-(x-1))\n",
    "    \n",
    "gradient(136)"
   ]
  },
  {
   "cell_type": "markdown",
   "metadata": {},
   "source": [
    "##[solution 3] Create a function to calculate the destination"
   ]
  },
  {
   "cell_type": "code",
   "execution_count": null,
   "metadata": {},
   "outputs": [],
   "source": [
    "def compute_next_position(position, elevation, alpha=0.1):\n",
    "    next_position = position - alpha*gradient(position)\n",
    "    next_position = np.maximum(1, next_position)\n",
    "    next_position = np.minimum(len(elevation)-1, next_position)\n",
    "    next_position_int = np.round(next_position).astype(np.int)\n",
    "    return next_position_int\n",
    "\n",
    "position = 136\n",
    "fuji_elevations = fuji[:,3]\n",
    "\n",
    "next_position = compute_next_position(position, fuji_elevations, alpha=0.1)\n",
    "print(position, next_position)"
   ]
  },
  {
   "cell_type": "code",
   "execution_count": null,
   "metadata": {},
   "outputs": [],
   "source": [
    "def gradient_descent(position, elevations):\n",
    "    return elevations[position] - elevations[position -1]\n",
    "\n",
    "position = 136\n",
    "fuji_elevations = fuji[:, 3]\n",
    "\n",
    "print(position, gradient_descent(position, fuji_elevations)"
   ]
  },
  {
   "cell_type": "code",
   "execution_count": null,
   "metadata": {},
   "outputs": [],
   "source": [
    "position = np.array([135, 136, 137])\n",
    "fuji_elevations = fuji[:, 3]\n",
    "next_position = compute_next_position(position, fuji_elevations, alpha=0.1)\n",
    "print(position, gradient_descent(position, fuji_elevations))"
   ]
  },
  {
   "cell_type": "code",
   "execution_count": 1,
   "metadata": {},
   "outputs": [],
   "source": [
    "\n",
    "##[solution 4] Creating a function to go down the mountain"
   ]
  },
  {
   "cell_type": "code",
   "execution_count": null,
   "metadata": {},
   "outputs": [],
   "source": [
    "def desend_mount(start_position, elevations, alpha = 0.1):\n",
    "    position = [start_position]\n",
    "    while position[-1] not in position[:-1]:\n",
    "        position.append(compute_next_position(position[-1], elevations, alpha = alpha))\n",
    "    return position[:-1]\n",
    "\n",
    "start_position = 136\n",
    "fuji_elevations = fuji[:, 3]\n",
    "descended_list = desend_mount(start_position, fuji_elevations, alpha = 0.1)\n",
    "print(descended_list)"
   ]
  },
  {
   "cell_type": "code",
   "execution_count": 2,
   "metadata": {},
   "outputs": [],
   "source": [
    "\n",
    "##[solution 5] Visualization of the descent process"
   ]
  },
  {
   "cell_type": "code",
   "execution_count": null,
   "metadata": {},
   "outputs": [],
   "source": [
    "fuji_elevations = fuji[:, 3]\n",
    "descended_elevations = fuji_elevations[descended_list]\n",
    "\n",
    "plt.title(\"downhall process of mt.fuji\")\n",
    "plt.ylabel(\"elevation[M]\")\n",
    "plt.xlabel(\"position\")\n",
    "plt.plot(fuji_elevations)\n",
    "plt.scatter(descended_list, descended_elevations, 20, color = \"red\")\n",
    "plt.show()"
   ]
  },
  {
   "cell_type": "code",
   "execution_count": null,
   "metadata": {},
   "outputs": [],
   "source": [
    "\n",
    "fuji_elevations = fuji[:, 3]\n",
    "descended_elevations = fuji_elevations[descended_list]\n",
    "\n",
    "plt.title(\"downhall process of mt.fuji\")\n",
    "plt.ylabel(\"elevation[M]\")\n",
    "plt.xlabel(\"number of iterations\")\n",
    "plt.plot(descended_elevations)\n",
    "plt.show()"
   ]
  },
  {
   "cell_type": "markdown",
   "metadata": {},
   "source": [
    "\n",
    "##[solution 6] Change of initial value"
   ]
  },
  {
   "cell_type": "code",
   "execution_count": null,
   "metadata": {},
   "outputs": [],
   "source": [
    "\n",
    "descended_list = []\n",
    "for i, start_position in enumerate(range(1, 300)):\n",
    "    descended_list.append(desend_mount(start_position, fuji[:, 3], alpha=0.2))\n",
    "    print(len(descended_list))"
   ]
  },
  {
   "cell_type": "code",
   "execution_count": 3,
   "metadata": {},
   "outputs": [],
   "source": [
    "##[solution 7] (Advance problem) Change hyperparameters"
   ]
  },
  {
   "cell_type": "code",
   "execution_count": null,
   "metadata": {},
   "outputs": [],
   "source": [
    "start_position = 136\n",
    "alphas = np.array([0.005, 0.01, 0.05, 0.1, 0.5, 1])\n",
    "descended_list_alphas = []\n",
    "for i, alpha in enumerate(alphas):\n",
    "    descended_list_alphas.append(desend_mount(start_position, fuji[:, 3], alpha=alpha))\n",
    "print(len(descended_list_alphas))"
   ]
  }
 ],
 "metadata": {
  "kernelspec": {
   "display_name": "Python 3",
   "language": "python",
   "name": "python3"
  },
  "language_info": {
   "codemirror_mode": {
    "name": "ipython",
    "version": 3
   },
   "file_extension": ".py",
   "mimetype": "text/x-python",
   "name": "python",
   "nbconvert_exporter": "python",
   "pygments_lexer": "ipython3",
   "version": "3.8.5"
  }
 },
 "nbformat": 4,
 "nbformat_minor": 4
}
