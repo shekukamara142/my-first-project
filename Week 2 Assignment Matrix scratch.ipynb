{
 "cells": [
  {
   "cell_type": "code",
   "execution_count": 3,
   "metadata": {},
   "outputs": [],
   "source": [
    "\n",
    "import numpy as np\n",
    "a_ndarray = np.array([[-1, 2, 3], [4, -5, 6], [7, 8, -9]])\n",
    "b_ndarray = np.array([[0, 2, 1], [0, 2, -8], [2, 9, -1]])"
   ]
  },
  {
   "cell_type": "markdown",
   "metadata": {},
   "source": [
    "##[solution 1] Matrix product is calculated manually"
   ]
  },
  {
   "cell_type": "code",
   "execution_count": 4,
   "metadata": {},
   "outputs": [],
   "source": [
    "\n",
    "#The product of 2 matrices is calculated by multiplying the rows of the first one from left to right with each column of the second matrix from top to bottom.\n",
    "\n",
    "#The calculation process of A x B is as follows\n",
    "\n",
    "A = [[-1, 2, 3], [4, -5, 6], [7, 8, -9]] \n",
    "B = [[0, 2, 1], [0, 2, -8], [2, 9, -1]]\n",
    "\n",
    "A0xB0: -10 + 20 +32 = 6\n",
    "A0xB1:-12 + 22 +39 = 29\n",
    "A0xB2:-11 + 2-8 +3-1 = -20\n",
    "A1xB0: 40 - 50 +62 = 12\n",
    "A1xB1: 42 - 52 +69 = 52\n",
    "A1xB2: 41 - 5-8 +6-1 = 38\n",
    "A2xB0: 70 + 80 -92 = -18\n",
    "A2xB1: 72 + 82 -99 = -51\n",
    "A2xB2: 71 + 8-8 -9*-1 = -48\n",
    "\n",
    "AxB = [[6, 29, -20], [12, 52, 38], [-18, -52, -48]]"
   ]
  },
  {
   "cell_type": "markdown",
   "metadata": {},
   "source": [
    " Using Mockdown notation\n",
    "\n",
    "$$A =\\begin{bmatrix}-1, &amp; 2, &amp; 3\\\\4, &amp; -5, &amp; 6\\\\7, &amp; 8, &amp; -9\\end{bmatrix}$$\n",
    ",\n",
    "\n",
    "$$B =\\begin{bmatrix}0, &amp; 2, &amp; 1\\\\0, &amp; 2, &amp; -8\\\\2, &amp; 9, &amp; -1\\end{bmatrix}$$\n",
    ",\n",
    "\n",
    "$$AB =\\begin{bmatrix}0+0+6, &amp; -2+4+27, &amp;-1+(-16)+(-3)\\\\0+0+12, &amp; 8+(-10)+54, &amp; 4+40+(-6)\\\\0+0+(-18), &amp; 14+16+(-81), &amp; 7+(-64)+(-9)\\end{bmatrix}$$\n",
    ",\n",
    "\n",
    "$$AB =\\begin{bmatrix}6, &amp; 29, &amp; -20\\\\12, &amp; 52, &amp; 38\\\\-18, &amp; -51, &amp; -48\\end {bmatrix}$$"
   ]
  },
  {
   "cell_type": "markdown",
   "metadata": {},
   "source": [
    "\n",
    "##[solution 2] Calculation by NumPy function"
   ]
  },
  {
   "cell_type": "code",
   "execution_count": 5,
   "metadata": {},
   "outputs": [
    {
     "data": {
      "text/plain": [
       "array([[  6,  29, -20],\n",
       "       [ 12,  52,  38],\n",
       "       [-18, -51, -48]])"
      ]
     },
     "execution_count": 5,
     "metadata": {},
     "output_type": "execute_result"
    }
   ],
   "source": [
    "\n",
    "import  numpy  as np\n",
    "a_ndarray = np.array([[-1, 2, 3], [4, -5, 6], [7, 8, -9]])\n",
    "b_ndarray = np.array([[0, 2, 1], [0, 2, -8], [2, 9, -1]])\n",
    "np.matmul(a_ndarray,b_ndarray)"
   ]
  },
  {
   "cell_type": "markdown",
   "metadata": {},
   "source": [
    "\n",
    "##[Solution 3] Implementation of calculation of a certain element"
   ]
  },
  {
   "cell_type": "code",
   "execution_count": 7,
   "metadata": {},
   "outputs": [
    {
     "name": "stdout",
     "output_type": "stream",
     "text": [
      "The calculation of 0th row of matrix A and the 0th column of matrix B is: 6\n"
     ]
    }
   ],
   "source": [
    "print(f'The calculation of 0th row of matrix A and the 0th column of matrix B is:',a_ndarray[0,0] * b_ndarray[0,0] + a_ndarray[0,1] *b_ndarray[1,0] + a_ndarray[0,2] *b_ndarray[2,0])"
   ]
  },
  {
   "cell_type": "markdown",
   "metadata": {},
   "source": [
    "#[solution 4]   function that performs matrix multiplication"
   ]
  },
  {
   "cell_type": "code",
   "execution_count": 8,
   "metadata": {},
   "outputs": [
    {
     "name": "stdout",
     "output_type": "stream",
     "text": [
      "[[  6.  29. -20.]\n",
      " [ 12.  52.  38.]\n",
      " [-18. -51. -48.]]\n"
     ]
    }
   ],
   "source": [
    "def matrix_multiplication(matrix_A, matrix_B):\n",
    "    matrix = np.zeros(9)\n",
    "    product = matrix.reshape(3, 3)\n",
    "   \n",
    "    for x in range(len(matrix_A)):\n",
    "        for y in range(len(matrix_B[0])):\n",
    "            for z in range(len(matrix_B)):\n",
    "                product[x][y] += matrix_A[x][z] * matrix_B[z][y]\n",
    "    print(product)\n",
    "matrix_multiplication(a_ndarray, b_ndarray)"
   ]
  },
  {
   "cell_type": "markdown",
   "metadata": {},
   "source": [
    "\n",
    "##[solution 5] Judge the input whose calculation is not defined"
   ]
  },
  {
   "cell_type": "code",
   "execution_count": 9,
   "metadata": {},
   "outputs": [],
   "source": [
    "d_ndarray = np.array([[-1, 2, 3], [4, -5, 6]])\n",
    "e_ndarray = np.array([[-9, 8, 7], [6, -5, 4]])"
   ]
  },
  {
   "cell_type": "code",
   "execution_count": 10,
   "metadata": {},
   "outputs": [
    {
     "name": "stdout",
     "output_type": "stream",
     "text": [
      "Sorry! the following matrices are not aligned!\n"
     ]
    }
   ],
   "source": [
    "\n",
    "d_ndarray = np.array([[-1, 2, 3], [4, -5, 6]])\n",
    "e_ndarray = np.array([[-9, 8, 7], [6, -5, 4]])\n",
    "\n",
    "if d_ndarray.shape[0] == e_ndarray.shape[1]:\n",
    "    print(product_of_matrix(d_ndarray, e_ndarray))\n",
    "else:\n",
    "    print(\"Sorry! the following matrices are not aligned!\")"
   ]
  },
  {
   "cell_type": "markdown",
   "metadata": {},
   "source": [
    "##[solution 6] Transposition"
   ]
  },
  {
   "cell_type": "code",
   "execution_count": 11,
   "metadata": {},
   "outputs": [
    {
     "name": "stdout",
     "output_type": "stream",
     "text": [
      "The product of the matrix when transposing matrix a is: \n"
     ]
    },
    {
     "data": {
      "text/plain": [
       "array([[ 14,  69, -40],\n",
       "       [ 16,  66,  34],\n",
       "       [-18, -63, -36]])"
      ]
     },
     "execution_count": 11,
     "metadata": {},
     "output_type": "execute_result"
    }
   ],
   "source": [
    "print('The product of the matrix when transposing matrix a is: ')\n",
    "np.dot(a_ndarray.T,b_ndarray)"
   ]
  },
  {
   "cell_type": "code",
   "execution_count": null,
   "metadata": {},
   "outputs": [],
   "source": []
  }
 ],
 "metadata": {
  "kernelspec": {
   "display_name": "Python 3",
   "language": "python",
   "name": "python3"
  },
  "language_info": {
   "codemirror_mode": {
    "name": "ipython",
    "version": 3
   },
   "file_extension": ".py",
   "mimetype": "text/x-python",
   "name": "python",
   "nbconvert_exporter": "python",
   "pygments_lexer": "ipython3",
   "version": "3.8.5"
  }
 },
 "nbformat": 4,
 "nbformat_minor": 4
}
